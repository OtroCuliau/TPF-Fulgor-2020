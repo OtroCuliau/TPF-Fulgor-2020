{
 "cells": [
  {
   "cell_type": "code",
   "execution_count": null,
   "id": "single-amplifier",
   "metadata": {},
   "outputs": [],
   "source": [
    "def PlataformaVerificacion():\n",
    "    import numpy as np\n",
    "    import math\n",
    "\n",
    "    import CoefStimuliMatrixGenerator as costimatgen\n",
    "\n",
    "    import StimuliGenerator as stimuligen\n",
    "\n",
    "    import _fixedInt as fInt\n",
    "############### PARAMETROS DE CUANTIZACION ###########################\n",
    "\n",
    "    ####### PARAMETRIZACION MANUAL ###################\n",
    "    \n",
    "    ########## ENTRADAS  ############\n",
    "#    N = int(input('\\n DIMENSIONES DEL ARREGLO SISTOLICO : ')) # Filas\n",
    "#    N_matrix_mult = int(input('\\n NUMERO DE MULTIPLICACIONES MATRICIALES : ')) \n",
    "\n",
    "#    Input_Data_Type = int(input('Ingrese 'float' o 'fixed' segun el tipo de dato que desea en las entradas: '))\n",
    "#    rango = int(input('Ingrese el rango de normalizacion: '))\n",
    "#    NB = int(input('Ingrese número de bits totales: '))\n",
    "#    NB_F = int(input('Ingrese número de bits fraccionales: '))\n",
    "#    print(\"Indique si se utilizará redondeo(round) o truncamiento(trunc) y el modo de saturación(saturate/overflow)\")\n",
    "#    roundMode = input(\"roundMode >> \")\n",
    "#    saturateMode = input(\"saturateMode >> \")\n",
    "\n",
    "    ########### SALIDAS   ###########\n",
    "\n",
    "#    NB_OUT = int(input('Ingrese número de bits totales: '))\n",
    "\n",
    "\n",
    "########### PARAMETRIZACION AUTOMATICA ###############\n",
    "    \n",
    "    ########## ENTRADAS  ############\n",
    "    N = 32\n",
    "    N_matrix_mult = 10\n",
    "    \n",
    "    Input_Data_Type = 'fixed'\n",
    "    rango = 255\n",
    "    NB = 8\n",
    "    NB_F = 7\n",
    "    roundMode = 'round'\n",
    "    saturateMode = 'saturate'\n",
    "    \n",
    "    latencia = N\n",
    "    \n",
    "######################################################################\n",
    "######## COMIENZA CONCATENACION DE FUNCIONES #########################\n",
    "######################################################################\n",
    "\n",
    "    [premult_A,postmult_B] = costimatgen.CoefStimuliMatGen(N,N_matrix_mult)\n",
    "\n",
    "    stimuligen.StimuliGenerator(Input_Data_Type,rango, premult_A, postmult_B, NB, NB_F, roundMode, saturateMode)"
   ]
  }
 ],
 "metadata": {
  "kernelspec": {
   "display_name": "Python 3",
   "language": "python",
   "name": "python3"
  },
  "language_info": {
   "codemirror_mode": {
    "name": "ipython",
    "version": 3
   },
   "file_extension": ".py",
   "mimetype": "text/x-python",
   "name": "python",
   "nbconvert_exporter": "python",
   "pygments_lexer": "ipython3",
   "version": "3.8.3-final"
  }
 },
 "nbformat": 4,
 "nbformat_minor": 5
}