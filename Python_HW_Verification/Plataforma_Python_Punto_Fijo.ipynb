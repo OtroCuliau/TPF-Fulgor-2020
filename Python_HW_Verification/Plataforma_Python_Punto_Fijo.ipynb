{
 "cells": [
  {
   "cell_type": "code",
   "execution_count": 1,
   "metadata": {},
   "outputs": [],
   "source": [
    "import numpy as np\n",
    "#import SystolicMult as sysmult\n",
    "#import GeneralSystolicMult as gensysmult\n",
    "import AutoMatrixGenerator as automatgen\n",
    "import CoefInputMatrixGenerator as coinmatgen\n",
    "import RandomMTX_Gen as ranmatgen\n",
    "import InputGenerator as inputgen\n",
    "import CounterGenSysMult as countsysmult\n",
    "import CounterGenSysMult_V2 as countsysmult2\n",
    "import NormalizedFixed_Matrix as normMtx\n",
    "import _fixedInt as fInt"
   ]
  },
  {
   "cell_type": "code",
   "execution_count": null,
   "metadata": {},
   "outputs": [
    {
     "name": "stdout",
     "output_type": "stream",
     "text": [
      "\n",
      " Dimensiones del arreglo sistolico para multiplicacion matricial: \n"
     ]
    }
   ],
   "source": [
    "def PlataformaVerificacion():\n",
    "    \n",
    "    print('\\n Dimensiones del arreglo sistolico para multiplicacion matricial: ')\n",
    "    \n",
    "    N = int(input('Numero de filas = Numero de columnas = ')) # Filas\n",
    "    \n",
    "    N_matrix_mult = int(input('\\n Numero de multiplicaciones matriciales: ')) \n",
    "\n",
    "#    [premult_A,postmult_B] = automatgen.AutoMatrixGenerator(N,N_matrix_mult)         #Genera las NMtx solicitadas y las concatena para\n",
    "    [premult_A,postmult_B] = coinmatgen.CoefInputMatrixGenerator(N,N_matrix_mult)\n",
    "#    [premult_A,postmult_B] = ranmatgen.RandomMTX_Gen(N,N_matrix_mult)\n",
    "\n",
    "    ########### PARAMETROS DE CUANTIZACION ###########################\n",
    "\n",
    "    ####### PARAMETRIZACION MANUAL ###################################\n",
    "    \n",
    "#    rango = int(input('Ingrese el rango de normalizacion: '))\n",
    "#    NB = int(input('Ingrese número de bits totales: '))\n",
    "#    print(\"Indique si se utilizará redondeo(round) o truncamiento(trunc) y el modo de saturación(saturate/overflow)\")\n",
    "#    roundMode = input(\"roundMode >> \")\n",
    "#    saturateMode = input(\"saturateMode >> \")\n",
    "\n",
    "    ####### PARAMETRIZACION AUTOMATICA ###############################\n",
    "    \n",
    "    rango = 255\n",
    "    NB = 8\n",
    "    roundMode = 'round'\n",
    "    saturateMode = 'saturate'\n",
    "    \n",
    "    ##################################################################\n",
    "    \n",
    "#    [premult_A,postmult_B] = normMtx.NormalizedFixedMatrix(rango, premult_A, postmult_B, NB, roundMode, saturateMode)\n",
    "    \n",
    "    [premult_A_stream,postmult_B_stream] = inputgen.InputGenerator(rango, premult_A, postmult_B, NB, roundMode, saturateMode)\n",
    "\n",
    "    print('premult_A_stream:\\n',premult_A_stream)\n",
    "    print('postmult_B_stream:\\n',postmult_B_stream)\n",
    "    \n",
    "#    countsysmult.CounterGenSysMult(premult_A_stream,postmult_B_stream)\n",
    "    countsysmult2.CounterGenSysMult2(premult_A_stream,postmult_B_stream)\n",
    "    \n",
    "PlataformaVerificacion()"
   ]
  },
  {
   "cell_type": "code",
   "execution_count": null,
   "metadata": {},
   "outputs": [],
   "source": []
  }
 ],
 "metadata": {
  "kernelspec": {
   "display_name": "Python 3",
   "language": "python",
   "name": "python3"
  },
  "language_info": {
   "codemirror_mode": {
    "name": "ipython",
    "version": 3
   },
   "file_extension": ".py",
   "mimetype": "text/x-python",
   "name": "python",
   "nbconvert_exporter": "python",
   "pygments_lexer": "ipython3",
   "version": "3.8.2"
  }
 },
 "nbformat": 4,
 "nbformat_minor": 5
}
