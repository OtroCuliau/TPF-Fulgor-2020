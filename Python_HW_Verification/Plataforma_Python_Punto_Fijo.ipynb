{
 "cells": [
  {
   "cell_type": "code",
   "execution_count": 1,
   "metadata": {},
   "outputs": [],
   "source": [
    "import numpy as np\n",
    "#import SystolicMult as sysmult\n",
    "#import GeneralSystolicMult as gensysmult\n",
    "import AutoMatrixGenerator as automatgen\n",
    "import CoefInputMatrixGenerator as coinmatgen\n",
    "import RandomMTX_Gen as ranmatgen\n",
    "import InputGenerator as inputgen\n",
    "import CounterGenSysMult as countsysmult\n",
    "import CounterGenSysMult_V2 as countsysmult2\n",
    "import NormalizedFixed_Matrix as normMtx\n",
    "import _fixedInt as fInt"
   ]
  },
  {
   "cell_type": "code",
   "execution_count": null,
   "metadata": {},
   "outputs": [
    {
     "name": "stdout",
     "output_type": "stream",
     "text": [
      "\n",
      " Dimensiones del arreglo sistolico para multiplicacion matricial: \n"
     ]
    },
    {
     "name": "stdin",
     "output_type": "stream",
     "text": [
      "Numero de filas = Numero de columnas =  5\n",
      "\n",
      " Numero de multiplicaciones matriciales:  5\n"
     ]
    },
    {
     "name": "stdout",
     "output_type": "stream",
     "text": [
      "len(premult_A) =  5\n",
      "len(premult_A) =  25\n",
      "\n",
      " premult_A : \n",
      "\n",
      "[5. 5. 5. 0. 0. 4. 4. 4. 0. 0. 3. 3. 3. 3. 3. 2. 2. 2. 2. 2. 1. 1. 1. 1.\n",
      " 1.]\n",
      "[5. 5. 5. 0. 0. 4. 4. 4. 0. 0. 3. 3. 3. 3. 3. 2. 2. 2. 2. 2. 1. 1. 1. 1.\n",
      " 1.]\n",
      "[5. 5. 5. 0. 0. 4. 4. 4. 0. 0. 3. 3. 3. 3. 3. 2. 2. 2. 2. 2. 1. 1. 1. 1.\n",
      " 1.]\n",
      "[0. 0. 0. 0. 0. 0. 0. 0. 0. 0. 3. 3. 3. 3. 3. 2. 2. 2. 2. 2. 1. 1. 1. 1.\n",
      " 1.]\n",
      "[0. 0. 0. 0. 0. 0. 0. 0. 0. 0. 3. 3. 3. 3. 3. 2. 2. 2. 2. 2. 1. 1. 1. 1.\n",
      " 1.]\n",
      "len(postmult_B) =  25\n",
      "len(postmult_B) =  5\n",
      "\n",
      " postmult_B: \n",
      "\n",
      "[5. 5. 5. 5. 0.]\n",
      "[5. 5. 5. 5. 0.]\n",
      "[5. 5. 5. 5. 0.]\n",
      "[0. 0. 0. 0. 0.]\n",
      "[0. 0. 0. 0. 0.]\n",
      "[4. 4. 4. 4. 0.]\n",
      "[4. 4. 4. 4. 0.]\n",
      "[4. 4. 4. 4. 0.]\n",
      "[0. 0. 0. 0. 0.]\n",
      "[0. 0. 0. 0. 0.]\n",
      "[3. 3. 3. 3. 3.]\n",
      "[3. 3. 3. 3. 3.]\n",
      "[3. 3. 3. 3. 3.]\n",
      "[3. 3. 3. 3. 3.]\n",
      "[3. 3. 3. 3. 3.]\n",
      "[2. 2. 2. 2. 2.]\n",
      "[2. 2. 2. 2. 2.]\n",
      "[2. 2. 2. 2. 2.]\n",
      "[2. 2. 2. 2. 2.]\n",
      "[2. 2. 2. 2. 2.]\n",
      "[1. 1. 1. 1. 1.]\n",
      "[1. 1. 1. 1. 1.]\n",
      "[1. 1. 1. 1. 1.]\n",
      "[1. 1. 1. 1. 1.]\n",
      "[1. 1. 1. 1. 1.]\n"
     ]
    }
   ],
   "source": [
    "def PlataformaVerificacion():\n",
    "    \n",
    "    print('\\n Dimensiones del arreglo sistolico para multiplicacion matricial: ')\n",
    "    \n",
    "    N = int(input('Numero de filas = Numero de columnas = ')) # Filas\n",
    "    \n",
    "    N_matrix_mult = int(input('\\n Numero de multiplicaciones matriciales: ')) \n",
    "\n",
    "    [premult_A,postmult_B] = automatgen.AutoMatrixGenerator(N,N_matrix_mult)         #Genera las NMtx solicitadas y las concatena para\n",
    "#    [premult_A,postmult_B] = coinmatgen.CoefInputMatrixGenerator(N,N_matrix_mult)\n",
    "#    [premult_A,postmult_B] = ranmatgen.RandomMTX_Gen(N,N_matrix_mult)\n",
    "\n",
    "    rango = int(input('Ingrese valor absoluto del mínimo negativo posible de los coeficientes: '))\n",
    "    NB = int(input('Ingrese número de bits totales: '))\n",
    "    print(\"Indique si se utilizará redondeo(round) o truncamiento(trunc) y el modo de saturación(saturate/overflow)\")\n",
    "    roundMode = input(\"roundMode >> \")\n",
    "    saturateMode = input(\"saturateMode >> \")\n",
    "    [premult_A,postmult_B] = normMtx.NormalizedFixedMatrix(rango, premult_A, postmult_B, NB, roundMode, saturateMode)\n",
    "    \n",
    "    [A1,B1] = inputgen.InputGenerator(premult_A,postmult_B)\n",
    "\n",
    "    print('premult_A_stream:\\n',A1)\n",
    "    print('postmult_B_stream:\\n',B1)\n",
    "    \n",
    "#    countsysmult.CounterGenSysMult(A1,B1)\n",
    "    countsysmult2.CounterGenSysMult2(A1,B1)\n",
    "    \n",
    "PlataformaVerificacion()"
   ]
  },
  {
   "cell_type": "code",
   "execution_count": null,
   "metadata": {},
   "outputs": [],
   "source": []
  }
 ],
 "metadata": {
  "kernelspec": {
   "display_name": "Python 3",
   "language": "python",
   "name": "python3"
  },
  "language_info": {
   "codemirror_mode": {
    "name": "ipython",
    "version": 3
   },
   "file_extension": ".py",
   "mimetype": "text/x-python",
   "name": "python",
   "nbconvert_exporter": "python",
   "pygments_lexer": "ipython3",
   "version": "3.8.2"
  }
 },
 "nbformat": 4,
 "nbformat_minor": 5
}
