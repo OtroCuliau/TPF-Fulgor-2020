{
 "cells": [
  {
   "cell_type": "code",
   "execution_count": 1,
   "metadata": {},
   "outputs": [],
   "source": [
    "import socket as skt"
   ]
  },
  {
   "cell_type": "code",
   "execution_count": null,
   "metadata": {},
   "outputs": [],
   "source": [
    "#grar socket\n",
    "sock=skt.socket(skt.AF_INET,skt.SOCK_STREAM)\n",
    "#intentar conectarse a el servidor\n",
    "sock.connect(('localhost',8000))\n",
    "\n",
    "#enviar datos al serv\n",
    "sock.send(\"Habilita la milanga\")\n",
    "#recivir datos\n",
    "fromServ=sock.recv(1024)\n",
    "print(\"Respuesta: {}\".format(fromServ))\n",
    "\n",
    "#cerrar conexion\n",
    "sock.close()"
   ]
  }
 ],
 "metadata": {
  "kernelspec": {
   "display_name": "Python 3",
   "language": "python",
   "name": "python3"
  },
  "language_info": {
   "codemirror_mode": {
    "name": "ipython",
    "version": 3
   },
   "file_extension": ".py",
   "mimetype": "text/x-python",
   "name": "python",
   "nbconvert_exporter": "python",
   "pygments_lexer": "ipython3",
   "version": "3.8.5"
  }
 },
 "nbformat": 4,
 "nbformat_minor": 4
}
