{
 "metadata": {
  "language_info": {
   "codemirror_mode": {
    "name": "ipython",
    "version": 3
   },
   "file_extension": ".py",
   "mimetype": "text/x-python",
   "name": "python",
   "nbconvert_exporter": "python",
   "pygments_lexer": "ipython3",
   "version": 3
  },
  "orig_nbformat": 2
 },
 "nbformat": 4,
 "nbformat_minor": 2,
 "cells": [
  {
   "cell_type": "code",
   "execution_count": null,
   "metadata": {},
   "outputs": [],
   "source": [
    "import socket\n",
    "import threading\n",
    "matrixB = 'postmult_B_stream_fixed.out'\n",
    "matrixA = 'premult_A_stream_fixed.out'\n",
    "HEADER = 64\n",
    "PORT = 5050\n",
    "FORMAT = 'utf-8'\n",
    "DISCONNECT_MESSAGE = \"!DISCONNECT\"\n",
    "SERVER = \"192.168.1.37\"\n",
    "ADDR = (SERVER, PORT)\n",
    "client = socket.socket(socket.AF_INET, socket.SOCK_STREAM)\n",
    "client.connect(ADDR)"
   ]
  },
  {
   "cell_type": "code",
   "execution_count": null,
   "metadata": {},
   "outputs": [],
   "source": [
    "def send(msg):\n",
    "    message = msg.encode(FORMAT)\n",
    "    msg_length = len(message)\n",
    "    send_length = str(msg_length).encode(FORMAT)\n",
    "    send_length += b' ' *(HEADER - len(send_length))\n",
    "    client.send(send_length)\n",
    "    client.send(message)\n",
    "    print(client.recv(2048).decode(FORMAT))"
   ]
  },
  {
   "cell_type": "code",
   "execution_count": null,
   "metadata": {},
   "outputs": [],
   "source": [
    "##################-Enviar Matrix A-################\n",
    "print(\"######## Envio Matrix A ########\")\n",
    "with open(matrixA) as f_obj:\n",
    "    for line in f_obj:\n",
    "        lineSplit = line.split()\n",
    "        #print(lineSplit)\n",
    "        for elemento in lineSplit:\n",
    "            send(hola)\n",
    "            send(elemento)\n",
    "    send(DISCONNECT_MESSAGE)"
   ]
  },
  {
   "cell_type": "code",
   "execution_count": null,
   "metadata": {},
   "outputs": [],
   "source": []
  }
 ]
}